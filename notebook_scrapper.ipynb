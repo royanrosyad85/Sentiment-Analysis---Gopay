{
  "nbformat": 4,
  "nbformat_minor": 0,
  "metadata": {
    "colab": {
      "provenance": []
    },
    "kernelspec": {
      "name": "python3",
      "display_name": "Python 3"
    },
    "language_info": {
      "name": "python"
    }
  },
  "cells": [
    {
      "cell_type": "code",
      "source": [
        "!pip install google-play-scraper"
      ],
      "metadata": {
        "colab": {
          "base_uri": "https://localhost:8080/"
        },
        "id": "zxvinpzXn-dD",
        "outputId": "e6636803-c844-4d42-bdea-d50f002d9631"
      },
      "execution_count": null,
      "outputs": [
        {
          "output_type": "stream",
          "name": "stdout",
          "text": [
            "Requirement already satisfied: google-play-scraper in /usr/local/lib/python3.11/dist-packages (1.2.7)\n"
          ]
        }
      ]
    },
    {
      "cell_type": "code",
      "execution_count": null,
      "metadata": {
        "id": "zhp6_ziKjCpH"
      },
      "outputs": [],
      "source": [
        "# Import library\n",
        "from google_play_scraper import reviews_all, reviews, Sort\n",
        "import pandas as pd"
      ]
    },
    {
      "cell_type": "code",
      "source": [
        "scrapreview = reviews(\n",
        "    'com.gojek.gopay',\n",
        "    lang='id',\n",
        "    country='id',\n",
        "    sort=Sort.MOST_RELEVANT,\n",
        "    count = 40000\n",
        ")"
      ],
      "metadata": {
        "id": "7CulI_JboAIi"
      },
      "execution_count": null,
      "outputs": []
    },
    {
      "cell_type": "code",
      "source": [
        "# Menyimpan hasil scrap ke dalam file csv\n",
        "df = pd.DataFrame(scrapreview[0])\n",
        "df.to_csv('ulasan_aplikasi_gopay_40K(2).csv', index=False)"
      ],
      "metadata": {
        "id": "n4axN4QepO3F"
      },
      "execution_count": null,
      "outputs": []
    }
  ]
}